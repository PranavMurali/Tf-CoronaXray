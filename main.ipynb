{
 "metadata": {
  "language_info": {
   "codemirror_mode": {
    "name": "ipython",
    "version": 3
   },
   "file_extension": ".py",
   "mimetype": "text/x-python",
   "name": "python",
   "nbconvert_exporter": "python",
   "pygments_lexer": "ipython3",
   "version": "3.7.3-final"
  },
  "orig_nbformat": 2,
  "kernelspec": {
   "name": "python3",
   "display_name": "Python 3"
  }
 },
 "nbformat": 4,
 "nbformat_minor": 2,
 "cells": [
  {
   "cell_type": "code",
   "execution_count": 1,
   "metadata": {},
   "outputs": [],
   "source": [
    "import os\n",
    "train = 'F:/CovidXray/Tf-CoronaXray/xray_dataset_covid19/train'\n",
    "validation ='F:/CovidXray/Tf-CoronaXray/xray_dataset_covid19/test'\n",
    "train_neg = os.path.join(train, 'NORMAL')\n",
    "train_pos = os.path.join(train, 'COVID')\n",
    "validation_neg = os.path.join(validation, 'NORMAL')\n",
    "validation_pos = os.path.join(validation, 'COVID')"
   ]
  },
  {
   "cell_type": "code",
   "execution_count": null,
   "metadata": {},
   "outputs": [],
   "source": [
    "import tensorflow as tf\n",
    "from tensorflow.keras import layers\n",
    "\n",
    "img_input = layers.Input(shape=(150, 150, 3))\n",
    "model = tf.keras.models.Sequential([\n",
    "    layers.Conv2D(16, 3, activation='relu', input_shape=(150, 150, 3)),\n",
    "    layers.MaxPooling2D(2),\n",
    "    layers.Conv2D(32, 3, activation='relu'),\n",
    "    layers.MaxPooling2D(2), \n",
    "    layers.Conv2D(64, 3, activation='relu'), \n",
    "    layers.MaxPooling2D(2),\n",
    "    layers.Flatten(), \n",
    "    layers.Dense(512, activation='relu'), \n",
    "    layers.Dense(1, activation='sigmoid')\n",
    "])\n",
    "model.summary()"
   ]
  },
  {
   "cell_type": "code",
   "execution_count": null,
   "metadata": {},
   "outputs": [],
   "source": [
    "from tensorflow.keras.optimizers import RMSprop\n",
    "from tensorflow.keras.preprocessing.image import ImageDataGenerator\n",
    "\n",
    "model.compile(optimizer=RMSprop(lr=0.001), loss='binary_crossentropy', metrics=['acc'])\n",
    "\n",
    "train_datagen = ImageDataGenerator(rescale=1./255)\n",
    "train_generator = train_datagen.flow_from_directory(train,target_size=(150, 150),batch_size=10,class_mode='binary')\n",
    "\n",
    "val_datagen = ImageDataGenerator(rescale=1./255)\n",
    "validation_generator = val_datagen.flow_from_directory(validation,target_size=(150, 150),batch_size=10,class_mode='binary')\n",
    "history = model.fit(train_generator,epochs=15,verbose=1,validation_data=validation_generator)"
   ]
  },
  {
   "cell_type": "code",
   "execution_count": null,
   "metadata": {},
   "outputs": [],
   "source": [
    "import matplotlib.pyplot as plt\n",
    "print(history.history.keys())\n",
    "\n",
    "plt.plot(history.history['acc'])\n",
    "plt.plot(history.history['val_acc'])\n",
    "plt.title('Model Accuracy')\n",
    "plt.ylabel('Accuracy')\n",
    "plt.xlabel('Epoch')\n",
    "plt.legend(['Train', 'Test'], loc='upper left')\n",
    "plt.show()\n",
    "\n",
    "plt.plot(history.history['loss'])\n",
    "plt.plot(history.history['val_loss'])\n",
    "plt.title('Model Loss')\n",
    "plt.ylabel('Loss')\n",
    "plt.xlabel('Epoch')\n",
    "plt.legend(['Train', 'Test'], loc='upper left')\n",
    "plt.show()\n"
   ]
  },
  {
   "cell_type": "code",
   "execution_count": null,
   "metadata": {},
   "outputs": [],
   "source": [
    "from keras.preprocessing.image import load_img\n",
    "from keras.preprocessing.image import img_to_array\n",
    "from keras.models import load_model\n",
    "\n",
    "def load_image(filename):\n",
    "\timg = load_img(filename, target_size=(150,150))\n",
    "\timg = img_to_array(img)\n",
    "\timg = img.reshape(1,150,150, 3)\n",
    "\timg = img.astype('float32')\n",
    "    img = img - [123.68, 116.779, 103.939]\n",
    "\treturn img\n",
    "\n",
    "img = load_image('Insert your image path here')\n",
    "result = model.predict(img)\n",
    "if(result[0]==1):\n",
    "    print(\"COVID-19 positive\")\n",
    "else:\n",
    "    print(\"COVID-19 negative\")"
   ]
  }
 ]
}